{
 "cells": [
  {
   "cell_type": "markdown",
   "id": "dcd75b8f-17d8-4c68-8d61-e50d538c4dc4",
   "metadata": {},
   "source": [
    "# Sentiment Analysis sobre reviews\n",
    "\t\t\t\t\t\t\n",
    "El objetivo es construir un clasificador el cual pueda predecir si una revisión realizada por un usuario es positiva o negativa (buena o mala).\n",
    "Para ello, se utiliza un conjunto de datos que pertenece a la plataforma Yelp. Esta, posee una red de usuarios, los cuales realizan opiniones sobre lugares nocturnos, espacios culturales, locales comerciales, entre otros.\n",
    "- Realizar un análisis de features, así como su preparación necesaria antes de iniciar el desarrollo del modelo.\n",
    "\t\t\t\t\t\t\n",
    "## Objetivos\n",
    "Generar un modelo de machine learning el cual pueda clasificar review en inglés para la plataforma Yelp. El modelo recibirá una review de un usuario, y deberá ser capaz de determinar si esta es positiva o negativa.\n",
    "\n",
    "## Dataset\n",
    "\n",
    "Las features que contiene el  dataset son:\n",
    "\t\t\t\t\n",
    "-  business_id: identificador del negocio al que se está realizando la review.\n",
    "-  cool: cantidad de votos por haber sido una review “cool”.\n",
    "-  date: fecha de realización de la revisión\n",
    "-  funny: cantidad de votos para una revisión “divertida”.\n",
    "-  review_id: identificador único de revisión (ofuscado).\n",
    "-  stars: cantidad de estrellas otorgadas por el usuario en referencia a la review.\n",
    "-  text: revisión realizada por el usuario sobre un determinado negocio.\n",
    "-  useful: cantidad de votos recibido por los usuarios a los cuales le resultó útil la revisión.\n",
    "-  user_id: id del usuario en la plataforma (ofuscado)\n",
    " \n",
    "## Consideraciones\n",
    "\n",
    "- No contamos con una variable target como pasa en problemas de la vida real. Por ello, un desafío extra que se presenta es cómo definir un target, basado en las features del dataset.\n",
    "\t\t\t\n",
    "- Muchas veces cuando importamos un dataset pandas infiere que valor podría ser, de no encontrar un valor conocido pone uno por defecto. Validar que los tipos de datos de las features después de importarse correspondan con su valor intrínseco es una buena práctica.\n",
    "\n",
    "-  Haga una rápida exploración de valores atípicos (outliers) del conjunto de datos. Realice los gráficos que considere pertinente para entender la naturaleza del problema.\n",
    "\n",
    "## Evaluación\n",
    " \t\t\t\t\t\t\t\t\n",
    "Para la evaluación de los modelos utilizar las siguientes métricas:\n",
    " \t\t\t\t\t\t\t\n",
    "- Precision\n",
    "- Recall\n",
    "    - F1-score\n",
    "    - Análisis de AUC ROC\n"
   ]
  },
  {
   "cell_type": "code",
   "execution_count": 1,
   "id": "9e9418cb-5967-4d23-a351-a6ecafbc5152",
   "metadata": {},
   "outputs": [],
   "source": [
    "# Imports utilizados a lo largo del práctico\n",
    "import pandas as pd\n",
    "import seaborn as sns\n",
    "import matplotlib.pyplot as plt\n",
    "import warnings\n",
    "warnings.simplefilter(action='ignore', category=FutureWarning)"
   ]
  },
  {
   "cell_type": "code",
   "execution_count": 2,
   "id": "a744e4b2-b7be-40d7-b3f5-ef5dc2d30257",
   "metadata": {},
   "outputs": [],
   "source": [
    "# Carga dataset\n",
    "data = pd.read_csv('reviews_yelp_nn.csv.gz', compression='gzip', sep=\"\\t\", error_bad_lines=False, quotechar = '\"', low_memory=False)"
   ]
  },
  {
   "cell_type": "code",
   "execution_count": 3,
   "id": "d0a1ad6e-23f2-4a5e-89d8-f21bc45ef2b4",
   "metadata": {},
   "outputs": [
    {
     "name": "stdout",
     "output_type": "stream",
     "text": [
      "Shape of the dataset: (3342958, 9) \n",
      "\n",
      "Column names:\n",
      " Index(['business_id', 'cool', 'date', 'funny', 'review_id', 'stars', 'text',\n",
      "       'useful', 'user_id'],\n",
      "      dtype='object') \n",
      "\n",
      "Datatype of each column:\n",
      " business_id     object\n",
      "cool            object\n",
      "date            object\n",
      "funny          float64\n",
      "review_id       object\n",
      "stars          float64\n",
      "text            object\n",
      "useful         float64\n",
      "user_id         object\n",
      "dtype: object\n"
     ]
    }
   ],
   "source": [
    "# Shape, Columns,  Datatype\n",
    "print(f\"Shape of the dataset: {data.shape} \\n\")\n",
    "print(f\"Column names:\\n {data.columns} \\n\")\n",
    "print(f\"Datatype of each column:\\n {data.dtypes}\")"
   ]
  },
  {
   "cell_type": "code",
   "execution_count": 4,
   "id": "390e5921-32c2-45e5-9eb2-484ba0ba11d3",
   "metadata": {},
   "outputs": [],
   "source": [
    "# Creo una columna nueva para la longitud de la review.\n",
    "data['review_len']=data.text.astype(str).apply(len)"
   ]
  },
  {
   "cell_type": "code",
   "execution_count": 5,
   "id": "75e05d02-a5ea-494b-bb00-6f3ba12b72f4",
   "metadata": {},
   "outputs": [
    {
     "data": {
      "text/html": [
       "<div>\n",
       "<style scoped>\n",
       "    .dataframe tbody tr th:only-of-type {\n",
       "        vertical-align: middle;\n",
       "    }\n",
       "\n",
       "    .dataframe tbody tr th {\n",
       "        vertical-align: top;\n",
       "    }\n",
       "\n",
       "    .dataframe thead th {\n",
       "        text-align: right;\n",
       "    }\n",
       "</style>\n",
       "<table border=\"1\" class=\"dataframe\">\n",
       "  <thead>\n",
       "    <tr style=\"text-align: right;\">\n",
       "      <th></th>\n",
       "      <th>business_id</th>\n",
       "      <th>cool</th>\n",
       "      <th>date</th>\n",
       "      <th>funny</th>\n",
       "      <th>review_id</th>\n",
       "      <th>stars</th>\n",
       "      <th>text</th>\n",
       "      <th>useful</th>\n",
       "      <th>user_id</th>\n",
       "      <th>review_len</th>\n",
       "    </tr>\n",
       "  </thead>\n",
       "  <tbody>\n",
       "    <tr>\n",
       "      <th>0</th>\n",
       "      <td>EhGPj8iJDIdaHnWg9d5BgA</td>\n",
       "      <td>0</td>\n",
       "      <td>2016-04-20 14:30:53</td>\n",
       "      <td>0.0</td>\n",
       "      <td>uJRdHLz4XNmDK5pOkWbZNA</td>\n",
       "      <td>5.0</td>\n",
       "      <td>Best Dim Sum in the city, their cart service i...</td>\n",
       "      <td>0.0</td>\n",
       "      <td>POETn3fQcZ8ngLAARCATSg</td>\n",
       "      <td>281</td>\n",
       "    </tr>\n",
       "    <tr>\n",
       "      <th>1</th>\n",
       "      <td>VPcFNI-6HICR5SJM--KjNA</td>\n",
       "      <td>5</td>\n",
       "      <td>2013-05-14 03:08:12</td>\n",
       "      <td>2.0</td>\n",
       "      <td>TlPh8jy8bt_TSGfjEw-pvA</td>\n",
       "      <td>5.0</td>\n",
       "      <td>How... HOW did I not head down here sooner? Fo...</td>\n",
       "      <td>7.0</td>\n",
       "      <td>oUK6Xs5dPPnP4whFeZExGg</td>\n",
       "      <td>1546</td>\n",
       "    </tr>\n",
       "    <tr>\n",
       "      <th>2</th>\n",
       "      <td>ugdUuApH3pYXggW5qpbALg</td>\n",
       "      <td>0</td>\n",
       "      <td>2016-08-26 16:51:37</td>\n",
       "      <td>0.0</td>\n",
       "      <td>GmoBAVE1pTo0kjmeKrXmLQ</td>\n",
       "      <td>4.0</td>\n",
       "      <td>Carnitas were wonderful. First time there and ...</td>\n",
       "      <td>0.0</td>\n",
       "      <td>SiaSUNlKQK7f57WBPmyyNw</td>\n",
       "      <td>206</td>\n",
       "    </tr>\n",
       "    <tr>\n",
       "      <th>3</th>\n",
       "      <td>3fCxmmg8nHGaE5upJWQUrw</td>\n",
       "      <td>0</td>\n",
       "      <td>2016-03-24 17:23:19</td>\n",
       "      <td>0.0</td>\n",
       "      <td>ZHuM9P81zfuNuFZ5ThXNRg</td>\n",
       "      <td>5.0</td>\n",
       "      <td>Great staff who are always willing to help. I ...</td>\n",
       "      <td>0.0</td>\n",
       "      <td>PsH5Qi8R69WAlhNv8mXWRA</td>\n",
       "      <td>275</td>\n",
       "    </tr>\n",
       "    <tr>\n",
       "      <th>4</th>\n",
       "      <td>LAqbIi2TDn8BDvPB0nLVhQ</td>\n",
       "      <td>1</td>\n",
       "      <td>2012-10-25 15:02:48</td>\n",
       "      <td>0.0</td>\n",
       "      <td>-2Ce00mfWYP20yt7k6kARg</td>\n",
       "      <td>3.0</td>\n",
       "      <td>This place is bigger, brighter, new so it's cl...</td>\n",
       "      <td>3.0</td>\n",
       "      <td>r-zUIQPaHzvIyL93wQaoiQ</td>\n",
       "      <td>289</td>\n",
       "    </tr>\n",
       "  </tbody>\n",
       "</table>\n",
       "</div>"
      ],
      "text/plain": [
       "              business_id cool                 date  funny  \\\n",
       "0  EhGPj8iJDIdaHnWg9d5BgA    0  2016-04-20 14:30:53    0.0   \n",
       "1  VPcFNI-6HICR5SJM--KjNA    5  2013-05-14 03:08:12    2.0   \n",
       "2  ugdUuApH3pYXggW5qpbALg    0  2016-08-26 16:51:37    0.0   \n",
       "3  3fCxmmg8nHGaE5upJWQUrw    0  2016-03-24 17:23:19    0.0   \n",
       "4  LAqbIi2TDn8BDvPB0nLVhQ    1  2012-10-25 15:02:48    0.0   \n",
       "\n",
       "                review_id  stars  \\\n",
       "0  uJRdHLz4XNmDK5pOkWbZNA    5.0   \n",
       "1  TlPh8jy8bt_TSGfjEw-pvA    5.0   \n",
       "2  GmoBAVE1pTo0kjmeKrXmLQ    4.0   \n",
       "3  ZHuM9P81zfuNuFZ5ThXNRg    5.0   \n",
       "4  -2Ce00mfWYP20yt7k6kARg    3.0   \n",
       "\n",
       "                                                text  useful  \\\n",
       "0  Best Dim Sum in the city, their cart service i...     0.0   \n",
       "1  How... HOW did I not head down here sooner? Fo...     7.0   \n",
       "2  Carnitas were wonderful. First time there and ...     0.0   \n",
       "3  Great staff who are always willing to help. I ...     0.0   \n",
       "4  This place is bigger, brighter, new so it's cl...     3.0   \n",
       "\n",
       "                  user_id  review_len  \n",
       "0  POETn3fQcZ8ngLAARCATSg         281  \n",
       "1  oUK6Xs5dPPnP4whFeZExGg        1546  \n",
       "2  SiaSUNlKQK7f57WBPmyyNw         206  \n",
       "3  PsH5Qi8R69WAlhNv8mXWRA         275  \n",
       "4  r-zUIQPaHzvIyL93wQaoiQ         289  "
      ]
     },
     "execution_count": 5,
     "metadata": {},
     "output_type": "execute_result"
    }
   ],
   "source": [
    "data.head()"
   ]
  },
  {
   "cell_type": "markdown",
   "id": "11ded3f0-c184-45b1-b5cc-de7ac7237d3a",
   "metadata": {},
   "source": [
    "veo como se distribuyen las longitudes de las reviews"
   ]
  },
  {
   "cell_type": "code",
   "execution_count": 6,
   "id": "3ba50d78-17ca-4752-8206-173d2591e7de",
   "metadata": {},
   "outputs": [
    {
     "data": {
      "image/png": "[encoded data removed]",
      "text/plain": [
       "<Figure size 432x288 with 1 Axes>"
      ]
     },
     "metadata": {
      "needs_background": "light"
     },
     "output_type": "display_data"
    },
    {
     "data": {
      "text/plain": [
       "count   3342958.00000\n",
       "mean        602.49914\n",
       "std         568.62338\n",
       "min           1.00000\n",
       "25%         237.00000\n",
       "50%         425.00000\n",
       "75%         765.00000\n",
       "max        5000.00000\n",
       "Name: review_len, dtype: float64"
      ]
     },
     "execution_count": 6,
     "metadata": {},
     "output_type": "execute_result"
    }
   ],
   "source": [
    "sns.histplot(data=data, x='review_len')\n",
    "plt.show()\n",
    "pd.set_option('display.float_format', lambda x: '%.5f' % x)\n",
    "data.review_len.describe()"
   ]
  },
  {
   "cell_type": "code",
   "execution_count": 7,
   "id": "c29cf810-6e33-43a7-af53-0d3184e1b8b3",
   "metadata": {},
   "outputs": [],
   "source": [
    "# Se eliminan aquellos registros cuyo texto es NaN\n",
    "data.dropna(subset=['text'], inplace=True)"
   ]
  },
  {
   "cell_type": "code",
   "execution_count": 8,
   "id": "16a49238",
   "metadata": {},
   "outputs": [
    {
     "data": {
      "text/plain": [
       "Text(0.5, 1.0, 'Review length according to #stars')"
      ]
     },
     "execution_count": 8,
     "metadata": {},
     "output_type": "execute_result"
    },
    {
     "data": {
      "image/png": "[encoded data removed]",
      "text/plain": [
       "<Figure size 1080x576 with 1 Axes>"
      ]
     },
     "metadata": {
      "needs_background": "light"
     },
     "output_type": "display_data"
    }
   ],
   "source": [
    "import matplotlib.pyplot as plt\n",
    "fig, axes = plt.subplots(nrows=1, ncols=1, figsize=(15,8))\n",
    "data[data['stars'] == 5].groupby('review_len').size().plot(ax=axes, label='5*')\n",
    "data[data['stars'] == 4].groupby('review_len').size().plot(ax=axes, label='4*')\n",
    "data[data['stars'] == 3].groupby('review_len').size().plot(ax=axes, label='3*')\n",
    "data[data['stars'] == 2].groupby('review_len').size().plot(ax=axes, label='2*')\n",
    "data[data['stars'] == 1].groupby('review_len').size().plot(ax=axes, label='1*')\n",
    "axes.set_ylabel('Counts')\n",
    "axes.grid(which='both')\n",
    "axes.legend()\n",
    "axes.set_title('Review length according to #stars')"
   ]
  },
  {
   "cell_type": "code",
   "execution_count": 9,
   "id": "bfc63845-66ba-4db8-8d73-d0e864065eb3",
   "metadata": {},
   "outputs": [],
   "source": [
    "# Se eliminan aquellos reviews con menos de 80 caracteres\n",
    "data = data[data.review_len > 80].copy()"
   ]
  },
  {
   "cell_type": "code",
   "execution_count": 10,
   "id": "1df62511",
   "metadata": {},
   "outputs": [
    {
     "data": {
      "text/plain": [
       "Text(0.5, 1.0, 'Review length according to #stars')"
      ]
     },
     "execution_count": 10,
     "metadata": {},
     "output_type": "execute_result"
    },
    {
     "data": {
      "image/png": "[encoded data removed]",
      "text/plain": [
       "<Figure size 1080x576 with 1 Axes>"
      ]
     },
     "metadata": {
      "needs_background": "light"
     },
     "output_type": "display_data"
    }
   ],
   "source": [
    "import matplotlib.pyplot as plt\n",
    "fig, axes = plt.subplots(nrows=1, ncols=1, figsize=(15,8))\n",
    "data[data['stars'] == 5].groupby('review_len').size().plot(ax=axes, label='5*')\n",
    "data[data['stars'] == 4].groupby('review_len').size().plot(ax=axes, label='4*')\n",
    "data[data['stars'] == 3].groupby('review_len').size().plot(ax=axes, label='3*')\n",
    "data[data['stars'] == 2].groupby('review_len').size().plot(ax=axes, label='2*')\n",
    "data[data['stars'] == 1].groupby('review_len').size().plot(ax=axes, label='1*')\n",
    "axes.set_ylabel('Counts')\n",
    "axes.grid(which='both')\n",
    "axes.legend()\n",
    "axes.set_title('Review length according to #stars')"
   ]
  },
  {
   "cell_type": "raw",
   "id": "69d10d53",
   "metadata": {},
   "source": [
    "Convierto las calificaciones 1 y 2 en (-1) (calificación negativa) y 4 y 5 en 1 (calificación positiva)."
   ]
  },
  {
   "cell_type": "code",
   "execution_count": 11,
   "id": "c021e167",
   "metadata": {},
   "outputs": [
    {
     "data": {
      "text/html": [
       "<div>\n",
       "<style scoped>\n",
       "    .dataframe tbody tr th:only-of-type {\n",
       "        vertical-align: middle;\n",
       "    }\n",
       "\n",
       "    .dataframe tbody tr th {\n",
       "        vertical-align: top;\n",
       "    }\n",
       "\n",
       "    .dataframe thead th {\n",
       "        text-align: right;\n",
       "    }\n",
       "</style>\n",
       "<table border=\"1\" class=\"dataframe\">\n",
       "  <thead>\n",
       "    <tr style=\"text-align: right;\">\n",
       "      <th></th>\n",
       "      <th>business_id</th>\n",
       "      <th>cool</th>\n",
       "      <th>date</th>\n",
       "      <th>funny</th>\n",
       "      <th>review_id</th>\n",
       "      <th>stars</th>\n",
       "      <th>text</th>\n",
       "      <th>useful</th>\n",
       "      <th>user_id</th>\n",
       "      <th>review_len</th>\n",
       "    </tr>\n",
       "  </thead>\n",
       "  <tbody>\n",
       "    <tr>\n",
       "      <th>0</th>\n",
       "      <td>EhGPj8iJDIdaHnWg9d5BgA</td>\n",
       "      <td>0</td>\n",
       "      <td>2016-04-20 14:30:53</td>\n",
       "      <td>0.00000</td>\n",
       "      <td>uJRdHLz4XNmDK5pOkWbZNA</td>\n",
       "      <td>1</td>\n",
       "      <td>Best Dim Sum in the city, their cart service i...</td>\n",
       "      <td>0.00000</td>\n",
       "      <td>POETn3fQcZ8ngLAARCATSg</td>\n",
       "      <td>281</td>\n",
       "    </tr>\n",
       "    <tr>\n",
       "      <th>1</th>\n",
       "      <td>VPcFNI-6HICR5SJM--KjNA</td>\n",
       "      <td>5</td>\n",
       "      <td>2013-05-14 03:08:12</td>\n",
       "      <td>2.00000</td>\n",
       "      <td>TlPh8jy8bt_TSGfjEw-pvA</td>\n",
       "      <td>1</td>\n",
       "      <td>How... HOW did I not head down here sooner? Fo...</td>\n",
       "      <td>7.00000</td>\n",
       "      <td>oUK6Xs5dPPnP4whFeZExGg</td>\n",
       "      <td>1546</td>\n",
       "    </tr>\n",
       "    <tr>\n",
       "      <th>2</th>\n",
       "      <td>ugdUuApH3pYXggW5qpbALg</td>\n",
       "      <td>0</td>\n",
       "      <td>2016-08-26 16:51:37</td>\n",
       "      <td>0.00000</td>\n",
       "      <td>GmoBAVE1pTo0kjmeKrXmLQ</td>\n",
       "      <td>1</td>\n",
       "      <td>Carnitas were wonderful. First time there and ...</td>\n",
       "      <td>0.00000</td>\n",
       "      <td>SiaSUNlKQK7f57WBPmyyNw</td>\n",
       "      <td>206</td>\n",
       "    </tr>\n",
       "    <tr>\n",
       "      <th>3</th>\n",
       "      <td>3fCxmmg8nHGaE5upJWQUrw</td>\n",
       "      <td>0</td>\n",
       "      <td>2016-03-24 17:23:19</td>\n",
       "      <td>0.00000</td>\n",
       "      <td>ZHuM9P81zfuNuFZ5ThXNRg</td>\n",
       "      <td>1</td>\n",
       "      <td>Great staff who are always willing to help. I ...</td>\n",
       "      <td>0.00000</td>\n",
       "      <td>PsH5Qi8R69WAlhNv8mXWRA</td>\n",
       "      <td>275</td>\n",
       "    </tr>\n",
       "    <tr>\n",
       "      <th>4</th>\n",
       "      <td>LAqbIi2TDn8BDvPB0nLVhQ</td>\n",
       "      <td>1</td>\n",
       "      <td>2012-10-25 15:02:48</td>\n",
       "      <td>0.00000</td>\n",
       "      <td>-2Ce00mfWYP20yt7k6kARg</td>\n",
       "      <td>0</td>\n",
       "      <td>This place is bigger, brighter, new so it's cl...</td>\n",
       "      <td>3.00000</td>\n",
       "      <td>r-zUIQPaHzvIyL93wQaoiQ</td>\n",
       "      <td>289</td>\n",
       "    </tr>\n",
       "  </tbody>\n",
       "</table>\n",
       "</div>"
      ],
      "text/plain": [
       "              business_id cool                 date   funny  \\\n",
       "0  EhGPj8iJDIdaHnWg9d5BgA    0  2016-04-20 14:30:53 0.00000   \n",
       "1  VPcFNI-6HICR5SJM--KjNA    5  2013-05-14 03:08:12 2.00000   \n",
       "2  ugdUuApH3pYXggW5qpbALg    0  2016-08-26 16:51:37 0.00000   \n",
       "3  3fCxmmg8nHGaE5upJWQUrw    0  2016-03-24 17:23:19 0.00000   \n",
       "4  LAqbIi2TDn8BDvPB0nLVhQ    1  2012-10-25 15:02:48 0.00000   \n",
       "\n",
       "                review_id  stars  \\\n",
       "0  uJRdHLz4XNmDK5pOkWbZNA      1   \n",
       "1  TlPh8jy8bt_TSGfjEw-pvA      1   \n",
       "2  GmoBAVE1pTo0kjmeKrXmLQ      1   \n",
       "3  ZHuM9P81zfuNuFZ5ThXNRg      1   \n",
       "4  -2Ce00mfWYP20yt7k6kARg      0   \n",
       "\n",
       "                                                text  useful  \\\n",
       "0  Best Dim Sum in the city, their cart service i... 0.00000   \n",
       "1  How... HOW did I not head down here sooner? Fo... 7.00000   \n",
       "2  Carnitas were wonderful. First time there and ... 0.00000   \n",
       "3  Great staff who are always willing to help. I ... 0.00000   \n",
       "4  This place is bigger, brighter, new so it's cl... 3.00000   \n",
       "\n",
       "                  user_id  review_len  \n",
       "0  POETn3fQcZ8ngLAARCATSg         281  \n",
       "1  oUK6Xs5dPPnP4whFeZExGg        1546  \n",
       "2  SiaSUNlKQK7f57WBPmyyNw         206  \n",
       "3  PsH5Qi8R69WAlhNv8mXWRA         275  \n",
       "4  r-zUIQPaHzvIyL93wQaoiQ         289  "
      ]
     },
     "execution_count": 11,
     "metadata": {},
     "output_type": "execute_result"
    }
   ],
   "source": [
    "d = {1 :-1, 2: -1, 3: 0, 4: 1, 5: 1} \n",
    "data['stars'] = data['stars'].map(d) \n",
    "data.head()"
   ]
  },
  {
   "cell_type": "code",
   "execution_count": 12,
   "id": "1306ba70",
   "metadata": {},
   "outputs": [
    {
     "data": {
      "text/plain": [
       " 1   0.65755\n",
       "-1   0.23192\n",
       " 0   0.11053\n",
       "Name: stars, dtype: float64"
      ]
     },
     "execution_count": 12,
     "metadata": {},
     "output_type": "execute_result"
    }
   ],
   "source": [
    "data[\"stars\"].value_counts(normalize = True)"
   ]
  },
  {
   "cell_type": "code",
   "execution_count": 13,
   "id": "93e0a475-554c-4219-92be-44328eed52f9",
   "metadata": {},
   "outputs": [
    {
     "name": "stdout",
     "output_type": "stream",
     "text": [
      "(3316932, 10)\n"
     ]
    }
   ],
   "source": [
    "print(data.shape)"
   ]
  },
  {
   "cell_type": "code",
   "execution_count": 14,
   "id": "8fd33ea5",
   "metadata": {},
   "outputs": [
    {
     "name": "stdout",
     "output_type": "stream",
     "text": [
      "(1658448, 10)\n"
     ]
    }
   ],
   "source": [
    "data_to_process = data[data.review_len > data.review_len.describe()['50%']].copy()\n",
    "print(data_to_process.shape)"
   ]
  },
  {
   "cell_type": "markdown",
   "id": "71f28e5d-8cbe-45bc-bf6a-a2725e9923e3",
   "metadata": {},
   "source": [
    "Evalúo si hay correlación entre _stars_ y la longitud de las reviews"
   ]
  },
  {
   "cell_type": "code",
   "execution_count": 15,
   "id": "b578a6f0-272d-41f2-aa46-00557a83f1aa",
   "metadata": {},
   "outputs": [
    {
     "data": {
      "text/plain": [
       "<seaborn.axisgrid.FacetGrid at 0x1b9c240e208>"
      ]
     },
     "execution_count": 15,
     "metadata": {},
     "output_type": "execute_result"
    },
    {
     "data": {
      "image/png": "[encoded data removed]",
      "text/plain": [
       "<Figure size 648x216 with 3 Axes>"
      ]
     },
     "metadata": {
      "needs_background": "light"
     },
     "output_type": "display_data"
    }
   ],
   "source": [
    "graph = sns.FacetGrid(data=data_to_process,col='stars')\n",
    "graph.map(sns.histplot,'review_len', bins=200)"
   ]
  },
  {
   "cell_type": "markdown",
   "id": "44b0cc4c-abd6-4359-91b5-687f3e97a9d8",
   "metadata": {},
   "source": [
    "Hay 3 columnas para el voto. _funny_, _cool_ y _useful_. <br> \n",
    "Veo valores medios de esas categorias de voto repecto del la cantidad de _stars_ que le dieron en la review."
   ]
  },
  {
   "cell_type": "code",
   "execution_count": 16,
   "id": "e132eb9c-93ed-46f9-8c24-c67d3995ed39",
   "metadata": {},
   "outputs": [],
   "source": [
    "# Por alguna eventualidad, necesito que cool sea floatante.\n",
    "data_to_process[\"cool\"] = pd.to_numeric(data_to_process.cool)"
   ]
  },
  {
   "cell_type": "code",
   "execution_count": 17,
   "id": "7e6aedda-5b53-4fca-92eb-befbf3ae3214",
   "metadata": {},
   "outputs": [],
   "source": [
    "data_to_process[\"text\"] = data_to_process.text.astype(str)"
   ]
  },
  {
   "cell_type": "code",
   "execution_count": 18,
   "id": "f8b8fb7e-3495-4d52-95e7-37d4fc1ec4d7",
   "metadata": {},
   "outputs": [
    {
     "data": {
      "text/plain": [
       "(1658448, 10)"
      ]
     },
     "execution_count": 18,
     "metadata": {},
     "output_type": "execute_result"
    }
   ],
   "source": [
    "data_to_process.shape"
   ]
  },
  {
   "cell_type": "code",
   "execution_count": 19,
   "id": "19f76932-279d-46c3-ab09-a3b8060058df",
   "metadata": {},
   "outputs": [],
   "source": [
    "import string\n",
    "punct_list = list(string.punctuation)"
   ]
  },
  {
   "cell_type": "code",
   "execution_count": 20,
   "id": "70e6d102-4b13-4acf-b82c-5c1310955715",
   "metadata": {},
   "outputs": [],
   "source": [
    "def remove_punctuation(text):\n",
    "    # lower case\n",
    "    text = text.lower()\n",
    "    # replace striplines\n",
    "    text = text.replace('\\n', '')\n",
    "    # remove punctuation\n",
    "    for punc in punct_list:\n",
    "        if punc in text:\n",
    "            text = text.replace(punc, '')\n",
    "    return text.strip()"
   ]
  },
  {
   "cell_type": "code",
   "execution_count": 21,
   "id": "92f46381-a502-4785-ab09-b9835fc5f6f4",
   "metadata": {},
   "outputs": [
    {
     "name": "stdout",
     "output_type": "stream",
     "text": [
      "How... HOW did I not head down here sooner? For real. When Yelpers say there's a Calgary establishment and I need to drive halfway across town to get to it, I need to get my ass in my car and go. \n",
      "\n",
      "Bill's. Where has your ginger beef been all my life? What's that? Right in your kitchen, served on your tables, mouths and mouths before me having devoured it's gingery and crunchy goodness while I went without even though I knew better... the reviews told me better.\n",
      "\n",
      "I am a ginger beef fanatic. I love the stuff, always have ever since I was a wee tot and old enough for my mother to feed me Western Chinese food. There were 3 things I would eat. Chicken balls, chicken fried rice and ginger beef. Except if I had had Bill's, the rest would've been spoiled for me after that! And now... this will be the case. \n",
      "\n",
      "It's not just the ginger beef here that gets my 5 stars though. It's that it's just a consistently solid experience. Just like everyone said, Bill himself was there to greet us at the door when we walked up the stairs. We snagged the last table for 2, the rest of the restaurant was full. And we ordered way too much food for two people.\n",
      "\n",
      "The meal consisted of:\n",
      "Ginger beef\n",
      "Shrimp sizzling rice\n",
      "lemon chicken\n",
      "egg rolls\n",
      "\n",
      "All of which you need to get. The sizzling rice was fun! I've never had it before. But it was kind of like pouring a thick sweet and sour soup over top of rice that crackles and sizzles as the liquid hits it. Besides the ginger beef, that was my favourite part.\n",
      "\n",
      "No doot aboot it, this girl's coming back for more!\n"
     ]
    }
   ],
   "source": [
    "print(data_to_process[\"text\"].iloc[0])"
   ]
  },
  {
   "cell_type": "code",
   "execution_count": 22,
   "id": "76695bae-7835-404c-be42-ea5a727b4258",
   "metadata": {},
   "outputs": [],
   "source": [
    "data_to_process[\"text\"] = data_to_process.text.apply(remove_punctuation)"
   ]
  },
  {
   "cell_type": "code",
   "execution_count": 23,
   "id": "3484c5a6-c2c7-4889-ba45-385615655554",
   "metadata": {},
   "outputs": [
    {
     "name": "stdout",
     "output_type": "stream",
     "text": [
      "how how did i not head down here sooner for real when yelpers say theres a calgary establishment and i need to drive halfway across town to get to it i need to get my ass in my car and go bills where has your ginger beef been all my life whats that right in your kitchen served on your tables mouths and mouths before me having devoured its gingery and crunchy goodness while i went without even though i knew better the reviews told me betteri am a ginger beef fanatic i love the stuff always have ever since i was a wee tot and old enough for my mother to feed me western chinese food there were 3 things i would eat chicken balls chicken fried rice and ginger beef except if i had had bills the rest wouldve been spoiled for me after that and now this will be the case its not just the ginger beef here that gets my 5 stars though its that its just a consistently solid experience just like everyone said bill himself was there to greet us at the door when we walked up the stairs we snagged the last table for 2 the rest of the restaurant was full and we ordered way too much food for two peoplethe meal consisted ofginger beefshrimp sizzling ricelemon chickenegg rollsall of which you need to get the sizzling rice was fun ive never had it before but it was kind of like pouring a thick sweet and sour soup over top of rice that crackles and sizzles as the liquid hits it besides the ginger beef that was my favourite partno doot aboot it this girls coming back for more\n"
     ]
    }
   ],
   "source": [
    "print(data_to_process[\"text\"].iloc[0])"
   ]
  },
  {
   "cell_type": "code",
   "execution_count": 24,
   "id": "44f7389a-394e-4c4b-8b64-b5d1aa18d3da",
   "metadata": {},
   "outputs": [],
   "source": [
    "data_sampled = data_to_process\n",
    "#data_sampled = data_to_process.sample(frac=0.10, random_state=1)"
   ]
  },
  {
   "cell_type": "code",
   "execution_count": 25,
   "id": "8c289664-fb6d-475b-956b-f7d63e11c9b8",
   "metadata": {},
   "outputs": [
    {
     "data": {
      "text/plain": [
       "(1658448, 10)"
      ]
     },
     "execution_count": 25,
     "metadata": {},
     "output_type": "execute_result"
    }
   ],
   "source": [
    "data_sampled.shape"
   ]
  },
  {
   "cell_type": "markdown",
   "id": "807acfc1",
   "metadata": {},
   "source": [
    "Observamos que las clases están desbalanceadas"
   ]
  },
  {
   "cell_type": "code",
   "execution_count": 26,
   "id": "13284ce3",
   "metadata": {},
   "outputs": [
    {
     "data": {
      "text/plain": [
       " 1   0.57842\n",
       "-1   0.28621\n",
       " 0   0.13537\n",
       "Name: stars, dtype: float64"
      ]
     },
     "execution_count": 26,
     "metadata": {},
     "output_type": "execute_result"
    }
   ],
   "source": [
    "data_sampled[\"stars\"].value_counts(normalize = True)"
   ]
  },
  {
   "cell_type": "code",
   "execution_count": 27,
   "id": "0b433333",
   "metadata": {},
   "outputs": [],
   "source": [
    "data_sampled_neg = data_sampled[data_sampled['stars']==-1]"
   ]
  },
  {
   "cell_type": "code",
   "execution_count": 28,
   "id": "dcca595f",
   "metadata": {},
   "outputs": [],
   "source": [
    "data_sampled_pos = data_sampled[data_sampled['stars']==1].sample(frac=0.5, random_state=1)"
   ]
  },
  {
   "cell_type": "code",
   "execution_count": 29,
   "id": "148d1f02",
   "metadata": {},
   "outputs": [
    {
     "name": "stdout",
     "output_type": "stream",
     "text": [
      "(474668, 10)\n"
     ]
    }
   ],
   "source": [
    "print(data_sampled_neg.shape)"
   ]
  },
  {
   "cell_type": "code",
   "execution_count": 30,
   "id": "c3ab9bf6",
   "metadata": {},
   "outputs": [
    {
     "name": "stdout",
     "output_type": "stream",
     "text": [
      "(479642, 10)\n"
     ]
    }
   ],
   "source": [
    "print(data_sampled_pos.shape)"
   ]
  },
  {
   "cell_type": "code",
   "execution_count": 31,
   "id": "b53aba1d",
   "metadata": {},
   "outputs": [],
   "source": [
    "frames = [data_sampled_neg, data_sampled_pos]"
   ]
  },
  {
   "cell_type": "code",
   "execution_count": 32,
   "id": "bee02eb2",
   "metadata": {},
   "outputs": [],
   "source": [
    "data_sampled = pd.concat(frames, axis=0)"
   ]
  },
  {
   "cell_type": "code",
   "execution_count": 33,
   "id": "407babdf",
   "metadata": {},
   "outputs": [
    {
     "data": {
      "text/plain": [
       "(954310, 10)"
      ]
     },
     "execution_count": 33,
     "metadata": {},
     "output_type": "execute_result"
    }
   ],
   "source": [
    "data_sampled.shape"
   ]
  },
  {
   "cell_type": "code",
   "execution_count": 34,
   "id": "5d80bbe8",
   "metadata": {},
   "outputs": [
    {
     "data": {
      "text/plain": [
       "(47716, 10)"
      ]
     },
     "execution_count": 34,
     "metadata": {},
     "output_type": "execute_result"
    }
   ],
   "source": [
    "data_sampled = data_sampled.sample(frac=0.05, random_state=1)\n",
    "data_sampled.shape"
   ]
  },
  {
   "cell_type": "markdown",
   "id": "2771f6ba-be3e-467d-a439-7073d0634236",
   "metadata": {
    "tags": []
   },
   "source": [
    "# División del conjunto de datos\n",
    "Tomo reviews y stars como variables para la clasificación.<br>\n",
    "Me quedo con aquellos reviews que tienen_stars_ 1 y 5 para tener clasificación negativa positiva (podría tomar star=3 y tener una review promedio)."
   ]
  },
  {
   "cell_type": "code",
   "execution_count": 35,
   "id": "1ebc08d1-2652-499e-8b42-ba75f2e9f96a",
   "metadata": {},
   "outputs": [
    {
     "data": {
      "text/html": [
       "<div>\n",
       "<style scoped>\n",
       "    .dataframe tbody tr th:only-of-type {\n",
       "        vertical-align: middle;\n",
       "    }\n",
       "\n",
       "    .dataframe tbody tr th {\n",
       "        vertical-align: top;\n",
       "    }\n",
       "\n",
       "    .dataframe thead th {\n",
       "        text-align: right;\n",
       "    }\n",
       "</style>\n",
       "<table border=\"1\" class=\"dataframe\">\n",
       "  <thead>\n",
       "    <tr style=\"text-align: right;\">\n",
       "      <th></th>\n",
       "      <th>business_id</th>\n",
       "      <th>cool</th>\n",
       "      <th>date</th>\n",
       "      <th>funny</th>\n",
       "      <th>review_id</th>\n",
       "      <th>stars</th>\n",
       "      <th>text</th>\n",
       "      <th>useful</th>\n",
       "      <th>user_id</th>\n",
       "      <th>review_len</th>\n",
       "    </tr>\n",
       "  </thead>\n",
       "  <tbody>\n",
       "    <tr>\n",
       "      <th>2103888</th>\n",
       "      <td>C9ImzBi5fn742ZcAYDww2A</td>\n",
       "      <td>0</td>\n",
       "      <td>2013-03-09 22:33:06</td>\n",
       "      <td>0.00000</td>\n",
       "      <td>biTE3cHTPfaOWkl2y8_jDQ</td>\n",
       "      <td>1</td>\n",
       "      <td>what a great local place this off the beaten p...</td>\n",
       "      <td>0.00000</td>\n",
       "      <td>OXwmkyamQ5H6Ed0xZo_kQA</td>\n",
       "      <td>843</td>\n",
       "    </tr>\n",
       "    <tr>\n",
       "      <th>9652</th>\n",
       "      <td>tInrGCzll4k9hF34Ye1rvQ</td>\n",
       "      <td>0</td>\n",
       "      <td>2018-05-13 13:42:33</td>\n",
       "      <td>1.00000</td>\n",
       "      <td>BaQ3TBX2jLCvK1NkFJXBjw</td>\n",
       "      <td>-1</td>\n",
       "      <td>food greatservice badi was thoroughly disappoi...</td>\n",
       "      <td>9.00000</td>\n",
       "      <td>sMoLTmDGcujdEqhqJfBWHQ</td>\n",
       "      <td>869</td>\n",
       "    </tr>\n",
       "    <tr>\n",
       "      <th>969236</th>\n",
       "      <td>gRCEObNuHtI61xR32ytqNQ</td>\n",
       "      <td>2</td>\n",
       "      <td>2016-03-03 03:30:02</td>\n",
       "      <td>1.00000</td>\n",
       "      <td>Bmt_jZuOzYR1SAELMZHt6Q</td>\n",
       "      <td>-1</td>\n",
       "      <td>horrible horrible  horriblesaw their sign on t...</td>\n",
       "      <td>10.00000</td>\n",
       "      <td>Co9mV9FRTKL0Gj56SWBE8Q</td>\n",
       "      <td>937</td>\n",
       "    </tr>\n",
       "    <tr>\n",
       "      <th>1281047</th>\n",
       "      <td>dVhGY-mNwTWQzK01Zxuclw</td>\n",
       "      <td>6</td>\n",
       "      <td>2009-01-01 08:56:37</td>\n",
       "      <td>5.00000</td>\n",
       "      <td>CwF4A-o0R7jsdBu3P1Vi9Q</td>\n",
       "      <td>1</td>\n",
       "      <td>for my first review of 2009 i really wanted to...</td>\n",
       "      <td>11.00000</td>\n",
       "      <td>nzsv-p1O8gCfP3XijfQrIw</td>\n",
       "      <td>1634</td>\n",
       "    </tr>\n",
       "    <tr>\n",
       "      <th>934752</th>\n",
       "      <td>52C6L3kbcvMO7apMEG0l2g</td>\n",
       "      <td>0</td>\n",
       "      <td>2017-09-26 19:21:57</td>\n",
       "      <td>1.00000</td>\n",
       "      <td>e5H-xkrO9tJhkt-JoqdQCg</td>\n",
       "      <td>-1</td>\n",
       "      <td>called for some help with my garage door on th...</td>\n",
       "      <td>1.00000</td>\n",
       "      <td>759m4VjWUY7fvB41UlcZHQ</td>\n",
       "      <td>540</td>\n",
       "    </tr>\n",
       "  </tbody>\n",
       "</table>\n",
       "</div>"
      ],
      "text/plain": [
       "                    business_id  cool                 date   funny  \\\n",
       "2103888  C9ImzBi5fn742ZcAYDww2A     0  2013-03-09 22:33:06 0.00000   \n",
       "9652     tInrGCzll4k9hF34Ye1rvQ     0  2018-05-13 13:42:33 1.00000   \n",
       "969236   gRCEObNuHtI61xR32ytqNQ     2  2016-03-03 03:30:02 1.00000   \n",
       "1281047  dVhGY-mNwTWQzK01Zxuclw     6  2009-01-01 08:56:37 5.00000   \n",
       "934752   52C6L3kbcvMO7apMEG0l2g     0  2017-09-26 19:21:57 1.00000   \n",
       "\n",
       "                      review_id  stars  \\\n",
       "2103888  biTE3cHTPfaOWkl2y8_jDQ      1   \n",
       "9652     BaQ3TBX2jLCvK1NkFJXBjw     -1   \n",
       "969236   Bmt_jZuOzYR1SAELMZHt6Q     -1   \n",
       "1281047  CwF4A-o0R7jsdBu3P1Vi9Q      1   \n",
       "934752   e5H-xkrO9tJhkt-JoqdQCg     -1   \n",
       "\n",
       "                                                      text   useful  \\\n",
       "2103888  what a great local place this off the beaten p...  0.00000   \n",
       "9652     food greatservice badi was thoroughly disappoi...  9.00000   \n",
       "969236   horrible horrible  horriblesaw their sign on t... 10.00000   \n",
       "1281047  for my first review of 2009 i really wanted to... 11.00000   \n",
       "934752   called for some help with my garage door on th...  1.00000   \n",
       "\n",
       "                        user_id  review_len  \n",
       "2103888  OXwmkyamQ5H6Ed0xZo_kQA         843  \n",
       "9652     sMoLTmDGcujdEqhqJfBWHQ         869  \n",
       "969236   Co9mV9FRTKL0Gj56SWBE8Q         937  \n",
       "1281047  nzsv-p1O8gCfP3XijfQrIw        1634  \n",
       "934752   759m4VjWUY7fvB41UlcZHQ         540  "
      ]
     },
     "execution_count": 35,
     "metadata": {},
     "output_type": "execute_result"
    }
   ],
   "source": [
    "# Clasificación\n",
    "data_classes = data_sampled[(data_sampled['stars']==-1) | (data_sampled['stars']==1)]\n",
    "data_classes.head()"
   ]
  },
  {
   "cell_type": "code",
   "execution_count": 36,
   "id": "d239ae01-a73f-466d-8419-6e732a0b2f44",
   "metadata": {},
   "outputs": [
    {
     "data": {
      "text/plain": [
       "(47716, 10)"
      ]
     },
     "execution_count": 36,
     "metadata": {},
     "output_type": "execute_result"
    }
   ],
   "source": [
    "data_classes.shape"
   ]
  },
  {
   "cell_type": "code",
   "execution_count": 37,
   "id": "e7efad6b",
   "metadata": {},
   "outputs": [
    {
     "data": {
      "text/plain": [
       "(23807, 10)"
      ]
     },
     "execution_count": 37,
     "metadata": {},
     "output_type": "execute_result"
    }
   ],
   "source": [
    "stars_pos = data_classes[data_classes[\"stars\"]==1]\n",
    "stars_pos.shape"
   ]
  },
  {
   "cell_type": "code",
   "execution_count": 38,
   "id": "645bdda1",
   "metadata": {},
   "outputs": [
    {
     "data": {
      "text/plain": [
       "(23909, 10)"
      ]
     },
     "execution_count": 38,
     "metadata": {},
     "output_type": "execute_result"
    }
   ],
   "source": [
    "stars_neg = data_classes[data_classes[\"stars\"]==-1]\n",
    "stars_neg.shape"
   ]
  },
  {
   "cell_type": "code",
   "execution_count": 39,
   "id": "dd4e336c",
   "metadata": {},
   "outputs": [],
   "source": [
    "# Separo el dataset\n",
    "x = data_classes['text']\n",
    "y = data_classes['stars']"
   ]
  },
  {
   "cell_type": "markdown",
   "id": "9a75eac1-e514-497b-ba02-750931f09abe",
   "metadata": {},
   "source": [
    "## Vectorization\n",
    "Ahora vectorizaremos una única revisión y vemos los resultados"
   ]
  },
  {
   "cell_type": "code",
   "execution_count": 40,
   "id": "959aed1d-67be-4374-8034-dac743bfec38",
   "metadata": {},
   "outputs": [],
   "source": [
    "from sklearn.feature_extraction.text import CountVectorizer\n",
    "# conversión de palabras a vector considerando los stop_words en inglés\n",
    "vocab = CountVectorizer(stop_words='english').fit(x)"
   ]
  },
  {
   "cell_type": "code",
   "execution_count": 41,
   "id": "a5ba2fb6-cd7e-4a21-b221-8190e0a33502",
   "metadata": {},
   "outputs": [
    {
     "name": "stdout",
     "output_type": "stream",
     "text": [
      "138163\n"
     ]
    }
   ],
   "source": [
    "print(len(vocab.vocabulary_))"
   ]
  },
  {
   "cell_type": "markdown",
   "id": "5d7c07a7-f152-4874-945f-7f0ad331181f",
   "metadata": {},
   "source": [
    "Vectorización de todo el conjunto de revisión y comprobación de la matriz dispersa:"
   ]
  },
  {
   "cell_type": "code",
   "execution_count": 42,
   "id": "a7e9c9c5-5686-4bd4-bb43-ad1127171540",
   "metadata": {},
   "outputs": [
    {
     "name": "stdout",
     "output_type": "stream",
     "text": [
      "Shape of the sparse matrix:  (47716, 138163)\n",
      "Non-Zero occurences:  3194922\n",
      "Density of the matrix =  0.048462350608851575\n"
     ]
    }
   ],
   "source": [
    "x = vocab.transform(x)\n",
    "# Tamaño de la matriz\n",
    "print(\"Shape of the sparse matrix: \", x.shape)\n",
    "# Ocurrencias no nulas\n",
    "print(\"Non-Zero occurences: \",x.nnz)\n",
    "# Matriz de densidad\n",
    "density = (x.nnz/(x.shape[0]*x.shape[1]))*100\n",
    "print(\"Density of the matrix = \",density)"
   ]
  },
  {
   "cell_type": "markdown",
   "id": "e7eafccf-7e86-4180-9e3a-5d65481924d2",
   "metadata": {},
   "source": [
    "Dividir el conjunto de datos X en conjunto de entrenamiento y prueba:"
   ]
  },
  {
   "cell_type": "code",
   "execution_count": 43,
   "id": "7a79c1dc-a058-437c-9b7b-6a53360f567a",
   "metadata": {},
   "outputs": [],
   "source": [
    "from sklearn.model_selection import train_test_split, cross_val_score\n",
    "from sklearn.metrics import classification_report\n",
    "from sklearn.metrics import confusion_matrix, accuracy_score, roc_auc_score, roc_curve"
   ]
  },
  {
   "cell_type": "code",
   "execution_count": 44,
   "id": "8833db63-251c-466e-ae88-e3b4994da830",
   "metadata": {},
   "outputs": [],
   "source": [
    "x_train,x_test,y_train,y_test = train_test_split(x, y,test_size=0.2,random_state=101)"
   ]
  },
  {
   "cell_type": "code",
   "execution_count": 45,
   "id": "12d7265d",
   "metadata": {},
   "outputs": [
    {
     "data": {
      "text/plain": [
       "(38172, 138163)"
      ]
     },
     "execution_count": 45,
     "metadata": {},
     "output_type": "execute_result"
    }
   ],
   "source": [
    "x_train.shape"
   ]
  },
  {
   "cell_type": "code",
   "execution_count": 46,
   "id": "46ba8391",
   "metadata": {},
   "outputs": [
    {
     "data": {
      "text/plain": [
       "(38172,)"
      ]
     },
     "execution_count": 46,
     "metadata": {},
     "output_type": "execute_result"
    }
   ],
   "source": [
    "y_train.shape"
   ]
  },
  {
   "cell_type": "markdown",
   "id": "d61d715c-a59c-41d1-90fe-d16ab471d11f",
   "metadata": {},
   "source": [
    "# Modelado:\n",
    "Ahora varios algoritmos de ML para ver cuál ofrece el mejor rendimiento.\n",
    "- Multinomial Naive Bayes\n",
    "- Random Forest\n",
    "- Decision Tree\n",
    "- Support Vector Machine\n",
    "- K Nearest Neighbour Algorithm\n",
    "- XGBoost Classifier"
   ]
  },
  {
   "cell_type": "markdown",
   "id": "5cdfc1dd-4355-4624-804a-07aa37ffbb94",
   "metadata": {},
   "source": [
    "## Multinomial Naive Bayes"
   ]
  },
  {
   "cell_type": "code",
   "execution_count": 47,
   "id": "b66dbc45-101c-44e1-8550-4bfc0303d817",
   "metadata": {},
   "outputs": [
    {
     "name": "stdout",
     "output_type": "stream",
     "text": [
      "Confusion Matrix for Multinomial Naive Bayes:\n",
      "[[4021  795]\n",
      " [ 619 4109]]\n",
      "Score: 85.18\n",
      "Classification Report:\n",
      "              precision    recall  f1-score   support\n",
      "\n",
      "          -1       0.87      0.83      0.85      4816\n",
      "           1       0.84      0.87      0.85      4728\n",
      "\n",
      "    accuracy                           0.85      9544\n",
      "   macro avg       0.85      0.85      0.85      9544\n",
      "weighted avg       0.85      0.85      0.85      9544\n",
      "\n"
     ]
    }
   ],
   "source": [
    "from sklearn.naive_bayes import MultinomialNB\n",
    "mnb = MultinomialNB()\n",
    "mnb.fit(x_train,y_train)\n",
    "predmnb = mnb.predict(x_test)\n",
    "print(\"Confusion Matrix for Multinomial Naive Bayes:\")\n",
    "print(confusion_matrix(y_test,predmnb))\n",
    "print(\"Score:\",round(accuracy_score(y_test,predmnb)*100,2))\n",
    "print(\"Classification Report:\")\n",
    "print(classification_report(y_test,predmnb))"
   ]
  },
  {
   "cell_type": "markdown",
   "id": "a4d6819b-8842-4a96-b67e-94ebb1c4442c",
   "metadata": {},
   "source": [
    "## Random Forest"
   ]
  },
  {
   "cell_type": "code",
   "execution_count": 48,
   "id": "cb5be37d-8c91-470d-ad72-018be0e1e4a8",
   "metadata": {},
   "outputs": [
    {
     "name": "stdout",
     "output_type": "stream",
     "text": [
      "Confusion Matrix for Random Forest Classifier:\n",
      "[[4309  507]\n",
      " [ 499 4229]]\n",
      "Score: 89.46\n",
      "Classification Report:\n",
      "              precision    recall  f1-score   support\n",
      "\n",
      "          -1       0.90      0.89      0.90      4816\n",
      "           1       0.89      0.89      0.89      4728\n",
      "\n",
      "    accuracy                           0.89      9544\n",
      "   macro avg       0.89      0.89      0.89      9544\n",
      "weighted avg       0.89      0.89      0.89      9544\n",
      "\n"
     ]
    }
   ],
   "source": [
    "from sklearn.ensemble import RandomForestClassifier\n",
    "rmfr = RandomForestClassifier()\n",
    "rmfr.fit(x_train,y_train)\n",
    "predrmfr = rmfr.predict(x_test)\n",
    "print(\"Confusion Matrix for Random Forest Classifier:\")\n",
    "print(confusion_matrix(y_test,predrmfr))\n",
    "print(\"Score:\",round(accuracy_score(y_test,predrmfr)*100,2))\n",
    "print(\"Classification Report:\")\n",
    "print(classification_report(y_test,predrmfr))"
   ]
  },
  {
   "cell_type": "markdown",
   "id": "82272e0b-3c69-4c48-b647-4aab5ee0987d",
   "metadata": {},
   "source": [
    "## Decision Tree"
   ]
  },
  {
   "cell_type": "code",
   "execution_count": 49,
   "id": "d08ed63b-46ec-42c9-894f-d9d591d70e17",
   "metadata": {},
   "outputs": [
    {
     "name": "stdout",
     "output_type": "stream",
     "text": [
      "Confusion Matrix for Decision Tree:\n",
      "[[3759 1057]\n",
      " [ 997 3731]]\n",
      "Score: 78.48\n",
      "Classification Report:\n",
      "              precision    recall  f1-score   support\n",
      "\n",
      "          -1       0.79      0.78      0.79      4816\n",
      "           1       0.78      0.79      0.78      4728\n",
      "\n",
      "    accuracy                           0.78      9544\n",
      "   macro avg       0.78      0.78      0.78      9544\n",
      "weighted avg       0.78      0.78      0.78      9544\n",
      "\n"
     ]
    }
   ],
   "source": [
    "from sklearn.tree import DecisionTreeClassifier\n",
    "dt = DecisionTreeClassifier()\n",
    "dt.fit(x_train,y_train)\n",
    "preddt = dt.predict(x_test)\n",
    "print(\"Confusion Matrix for Decision Tree:\")\n",
    "print(confusion_matrix(y_test,preddt))\n",
    "print(\"Score:\",round(accuracy_score(y_test,preddt)*100,2))\n",
    "print(\"Classification Report:\")\n",
    "print(classification_report(y_test,preddt))"
   ]
  },
  {
   "cell_type": "markdown",
   "id": "db312ca7-4835-4a87-b1c9-f0324a4638d5",
   "metadata": {},
   "source": [
    "## Support Vector Machine"
   ]
  },
  {
   "cell_type": "code",
   "execution_count": 50,
   "id": "df094e90-9575-4837-8737-5f5d14d45625",
   "metadata": {},
   "outputs": [
    {
     "name": "stdout",
     "output_type": "stream",
     "text": [
      "Confusion Matrix for Support Vector Machines:\n",
      "[[4460  356]\n",
      " [ 411 4317]]\n",
      "Score: 91.96\n",
      "Classification Report:\n",
      "              precision    recall  f1-score   support\n",
      "\n",
      "          -1       0.92      0.93      0.92      4816\n",
      "           1       0.92      0.91      0.92      4728\n",
      "\n",
      "    accuracy                           0.92      9544\n",
      "   macro avg       0.92      0.92      0.92      9544\n",
      "weighted avg       0.92      0.92      0.92      9544\n",
      "\n"
     ]
    }
   ],
   "source": [
    "from sklearn.svm import SVC\n",
    "svm = SVC(probability= True, random_state=101)\n",
    "svm.fit(x_train,y_train)\n",
    "predsvm = svm.predict(x_test)\n",
    "print(\"Confusion Matrix for Support Vector Machines:\")\n",
    "print(confusion_matrix(y_test,predsvm))\n",
    "print(\"Score:\",round(accuracy_score(y_test,predsvm)*100,2))\n",
    "print(\"Classification Report:\")\n",
    "print(classification_report(y_test,predsvm))"
   ]
  },
  {
   "cell_type": "markdown",
   "id": "8c2c720a-0483-4eee-81df-1c3eb5a2c2df",
   "metadata": {},
   "source": [
    "## K Nearest Neighbour Algorithm"
   ]
  },
  {
   "cell_type": "code",
   "execution_count": 51,
   "id": "4ee81ce0-b5ec-49b8-afc2-64f286d21b47",
   "metadata": {},
   "outputs": [
    {
     "name": "stdout",
     "output_type": "stream",
     "text": [
      "Confusion Matrix for K Neighbors Classifier:\n",
      "[[3777 1039]\n",
      " [1070 3658]]\n",
      "Score:  77.9\n",
      "Classification Report:\n",
      "              precision    recall  f1-score   support\n",
      "\n",
      "          -1       0.78      0.78      0.78      4816\n",
      "           1       0.78      0.77      0.78      4728\n",
      "\n",
      "    accuracy                           0.78      9544\n",
      "   macro avg       0.78      0.78      0.78      9544\n",
      "weighted avg       0.78      0.78      0.78      9544\n",
      "\n"
     ]
    }
   ],
   "source": [
    "from sklearn.neighbors import KNeighborsClassifier\n",
    "knn = KNeighborsClassifier(n_neighbors=10)\n",
    "knn.fit(x_train,y_train)\n",
    "predknn = knn.predict(x_test)\n",
    "print(\"Confusion Matrix for K Neighbors Classifier:\")\n",
    "print(confusion_matrix(y_test,predknn))\n",
    "print(\"Score: \",round(accuracy_score(y_test,predknn)*100,2))\n",
    "print(\"Classification Report:\")\n",
    "print(classification_report(y_test,predknn))"
   ]
  },
  {
   "cell_type": "markdown",
   "id": "4d1cb5ef-6936-449f-bf24-cbd211dce1b6",
   "metadata": {},
   "source": [
    "## XGBoost Classifier"
   ]
  },
  {
   "cell_type": "code",
   "execution_count": 52,
   "id": "294bf080-5054-4f6e-b3bc-686e3d4b7e06",
   "metadata": {},
   "outputs": [
    {
     "name": "stderr",
     "output_type": "stream",
     "text": [
      "C:\\Users\\Diez\\Anaconda3\\lib\\site-packages\\xgboost\\sklearn.py:1146: UserWarning: The use of label encoder in XGBClassifier is deprecated and will be removed in a future release. To remove this warning, do the following: 1) Pass option use_label_encoder=False when constructing XGBClassifier object; and 2) Encode your labels (y) as integers starting with 0, i.e. 0, 1, 2, ..., [num_class - 1].\n",
      "  warnings.warn(label_encoder_deprecation_msg, UserWarning)\n"
     ]
    },
    {
     "name": "stdout",
     "output_type": "stream",
     "text": [
      "[17:05:33] WARNING: C:/Users/Administrator/workspace/xgboost-win64_release_1.4.0/src/learner.cc:1095: Starting in XGBoost 1.3.0, the default evaluation metric used with the objective 'binary:logistic' was changed from 'error' to 'logloss'. Explicitly set eval_metric if you'd like to restore the old behavior.\n",
      "Confusion Matrix for XGBoost Classifier:\n",
      "[[4343  473]\n",
      " [ 412 4316]]\n",
      "Score:  90.73\n",
      "Classification Report:\n",
      "              precision    recall  f1-score   support\n",
      "\n",
      "          -1       0.91      0.90      0.91      4816\n",
      "           1       0.90      0.91      0.91      4728\n",
      "\n",
      "    accuracy                           0.91      9544\n",
      "   macro avg       0.91      0.91      0.91      9544\n",
      "weighted avg       0.91      0.91      0.91      9544\n",
      "\n"
     ]
    }
   ],
   "source": [
    "import xgboost\n",
    "from xgboost import XGBClassifier\n",
    "xgb = XGBClassifier()\n",
    "xgb.fit(x_train,y_train)\n",
    "predxgb = xgb.predict(x_test)\n",
    "print(\"Confusion Matrix for XGBoost Classifier:\")\n",
    "print(confusion_matrix(y_test,predxgb))\n",
    "print(\"Score: \",round(accuracy_score(y_test,predxgb)*100,2))\n",
    "print(\"Classification Report:\")\n",
    "print(classification_report(y_test,predxgb))"
   ]
  },
  {
   "cell_type": "markdown",
   "id": "7e93b86d-ea0c-4c4f-b6d9-2ca24958ea29",
   "metadata": {},
   "source": [
    "# Predicción de reviews\n",
    "Veamos la predicción de reviews positivas y negativas.\n",
    "## Predicción de una review positiva"
   ]
  },
  {
   "cell_type": "code",
   "execution_count": 53,
   "id": "fdf1c3f0-d821-4fea-ae0d-40383035abd8",
   "metadata": {},
   "outputs": [
    {
     "name": "stdout",
     "output_type": "stream",
     "text": [
      "Best Dim Sum in the city, their cart service is great and offer big selection of quality dim sum.  You can order off the menu too if there is something you haven't seen come around.  It is a little more expensive but you can't beat it, and the view is perfect for a weekend brunch.\n",
      "Actual Rating:  1\n",
      "\n",
      "Predicted Rating (Naive Bayes):  1\n",
      "Predicted Rating (Random Forest):  1\n",
      "Predicted Rating (Decision Tree):  1\n",
      "Predicted Rating (Support Vector  Machine):  1\n",
      "Predicted Rating (Knn):  1\n",
      "Predicted Rating (XGBoost):  1\n"
     ]
    }
   ],
   "source": [
    "# Review positiva\n",
    "positive_review = data['text'].iloc[0]\n",
    "print(positive_review)\n",
    "print(\"Actual Rating: \",data['stars'][0])\n",
    "pr_t = vocab.transform([positive_review])\n",
    "print()\n",
    "print(\"Predicted Rating (Naive Bayes): \", mnb.predict(pr_t)[0])\n",
    "print(\"Predicted Rating (Random Forest): \", rmfr.predict(pr_t)[0])\n",
    "print(\"Predicted Rating (Decision Tree): \", dt.predict(pr_t)[0])\n",
    "print(\"Predicted Rating (Support Vector  Machine): \", svm.predict(pr_t)[0])\n",
    "print(\"Predicted Rating (Knn): \", knn.predict(pr_t)[0])\n",
    "print(\"Predicted Rating (XGBoost): \", xgb.predict(pr_t)[0])"
   ]
  },
  {
   "cell_type": "markdown",
   "id": "24910a8e-f064-42d7-aa87-f030236c5b1c",
   "metadata": {},
   "source": [
    "## Prediccion de una review negativa"
   ]
  },
  {
   "cell_type": "code",
   "execution_count": 54,
   "id": "a0337665-d35f-4fba-a813-8083265fc945",
   "metadata": {},
   "outputs": [
    {
     "name": "stdout",
     "output_type": "stream",
     "text": [
      "What a complete disappointment! I went for lunch with my 2 year old and ordered 2 sushi rolls, a beef slices appetizer (they call satay) and Beef Yakisoba. We were the only two customers in the restaurant and waited over 20 minutes for the appetizer only for it to be tough, dry and charred, and we waited 30 minutes for the noodle entree only for it to be dry, tough, fatty, grisly and quite frankly, inedible. When we it brought to the their attention, Joy the manager only took the beef appetizer off the bill. She said the meal was edible, so I told her, \"Then you eat it.\" With such poor service, quality and attention, WE WILL NEVER RETURN!!! As an area local, I will not recommend this to restaurant anyone.\n",
      "Actual Rating:  -1\n",
      "\n",
      "Predicted Rating (Naive Bayes):  -1\n",
      "Predicted Rating (Random Forest):  -1\n",
      "Predicted Rating (Decision Tree):  -1\n",
      "Predicted Rating (Support Vector  Machine):  -1\n",
      "Predicted Rating (Knn):  -1\n",
      "Predicted Rating (XGBoost):  -1\n"
     ]
    }
   ],
   "source": [
    "# NEGATIVE REVIEW\n",
    "negative_review = data['text'].iloc[13]\n",
    "print(negative_review)\n",
    "print(\"Actual Rating: \",data['stars'][13])\n",
    "nr_t = vocab.transform([negative_review])\n",
    "print()\n",
    "print(\"Predicted Rating (Naive Bayes): \", mnb.predict(nr_t)[0])\n",
    "print(\"Predicted Rating (Random Forest): \", rmfr.predict(nr_t)[0])\n",
    "print(\"Predicted Rating (Decision Tree): \", dt.predict(nr_t)[0])\n",
    "print(\"Predicted Rating (Support Vector  Machine): \", svm.predict(nr_t)[0])\n",
    "print(\"Predicted Rating (Knn): \", knn.predict(nr_t)[0])\n",
    "print(\"Predicted Rating (XGBoost): \", xgb.predict(nr_t)[0])"
   ]
  },
  {
   "cell_type": "code",
   "execution_count": 55,
   "id": "867fc1dd",
   "metadata": {},
   "outputs": [],
   "source": [
    "def plot_roc_curve(fpr, tpr, title_str):\n",
    "    plt.figure(figsize=(12,7))    \n",
    "    plt.plot([0, 1], [0, 1], color='red', linestyle='--')\n",
    "    for i in range(0, len(fpr)):\n",
    "        plt.plot(fpr[i], tpr[i], label=str(models[i]))\n",
    "        \n",
    "    plt.xlabel('False Positive Rate')\n",
    "    plt.ylabel('True Positive Rate')\n",
    "    plt.title(title_str)   \n",
    "    plt.legend()   \n",
    "    plt.grid(which='both')"
   ]
  },
  {
   "cell_type": "code",
   "execution_count": 56,
   "id": "be9b0e83",
   "metadata": {},
   "outputs": [],
   "source": [
    "from sklearn.metrics import roc_curve, roc_auc_score"
   ]
  },
  {
   "cell_type": "code",
   "execution_count": 57,
   "id": "b4f27c16",
   "metadata": {},
   "outputs": [
    {
     "name": "stdout",
     "output_type": "stream",
     "text": [
      "MultinomialNB()\n",
      "Area Under Curve (AUC):  0.9219608364461945\n",
      "\n",
      "RandomForestClassifier()\n",
      "Area Under Curve (AUC):  0.959601666188846\n",
      "\n",
      "DecisionTreeClassifier()\n",
      "Area Under Curve (AUC):  0.7827495137471823\n",
      "\n",
      "SVC(probability=True, random_state=101)\n",
      "Area Under Curve (AUC):  0.9754280272048613\n",
      "\n",
      "KNeighborsClassifier(n_neighbors=10)\n",
      "Area Under Curve (AUC):  0.856826037433035\n",
      "\n",
      "XGBClassifier(base_score=0.5, booster='gbtree', colsample_bylevel=1,\n",
      "              colsample_bynode=1, colsample_bytree=1, gamma=0, gpu_id=-1,\n",
      "              importance_type='gain', interaction_constraints='',\n",
      "              learning_rate=0.300000012, max_delta_step=0, max_depth=6,\n",
      "              min_child_weight=1, missing=nan, monotone_constraints='()',\n",
      "              n_estimators=100, n_jobs=6, num_parallel_tree=1, random_state=0,\n",
      "              reg_alpha=0, reg_lambda=1, scale_pos_weight=1, subsample=1,\n",
      "              tree_method='exact', validate_parameters=1, verbosity=None)\n",
      "[18:39:28] WARNING: C:/Users/Administrator/workspace/xgboost-win64_release_1.4.0/src/learner.cc:1095: Starting in XGBoost 1.3.0, the default evaluation metric used with the objective 'binary:logistic' was changed from 'error' to 'logloss'. Explicitly set eval_metric if you'd like to restore the old behavior.\n"
     ]
    },
    {
     "name": "stderr",
     "output_type": "stream",
     "text": [
      "C:\\Users\\Diez\\Anaconda3\\lib\\site-packages\\xgboost\\sklearn.py:1146: UserWarning: The use of label encoder in XGBClassifier is deprecated and will be removed in a future release. To remove this warning, do the following: 1) Pass option use_label_encoder=False when constructing XGBClassifier object; and 2) Encode your labels (y) as integers starting with 0, i.e. 0, 1, 2, ..., [num_class - 1].\n",
      "  warnings.warn(label_encoder_deprecation_msg, UserWarning)\n"
     ]
    },
    {
     "name": "stdout",
     "output_type": "stream",
     "text": [
      "Area Under Curve (AUC):  0.9672692169994547\n",
      "\n"
     ]
    }
   ],
   "source": [
    "fpr_list = []\n",
    "tpr_list = []\n",
    "\n",
    "models = [mnb, rmfr, dt, svm, knn, xgb]\n",
    "\n",
    "for i in range(0, len(models)):\n",
    "    model=models[i]\n",
    "    print(model)\n",
    "    model.fit(x_train, y_train)\n",
    "    y_pred = model.predict_proba(x_test)\n",
    "    y_pred = y_pred[:,1]\n",
    "    fpr, tpr, threshold = roc_curve(y_test, y_pred)\n",
    "    fpr_list.append(fpr)\n",
    "    tpr_list.append(tpr)\n",
    "    print('Area Under Curve (AUC): ', roc_auc_score(y_test, y_pred))\n",
    "    print()"
   ]
  },
  {
   "cell_type": "code",
   "execution_count": 58,
   "id": "c7898145",
   "metadata": {},
   "outputs": [
    {
     "data": {
      "image/png": "[encoded data removed]",
      "text/plain": [
       "<Figure size 864x504 with 1 Axes>"
      ]
     },
     "metadata": {
      "needs_background": "light"
     },
     "output_type": "display_data"
    }
   ],
   "source": [
    "plot_roc_curve(fpr_list, tpr_list, title_str='ROC Curve')"
   ]
  },
  {
   "cell_type": "markdown",
   "id": "ff1cef8b",
   "metadata": {},
   "source": [
    "#### CONCLUSIONES\n",
    "\n",
    "-Del classification_report se observa que las clases 1 y -1 quedan balanceadas (4816, 4728) y la matriz de confusión muestra, asimismo, valores de TN/TP y FN/FP equilibrados, independientemente del modelo considerado.\n",
    "\n",
    "-El modelo que dio lugar a los mejores resultados, para esta estrategia, fue SVM (AUC:  0.975, F1-Score: 0.92 para clase 1 y -1). Asimismo, los modelos XGBoost y RF mostraron métricas de 0.91 y 0.90 para F1-Score de la clase -1 (reviews negativos) y 0.91 y 0.89 para la clase 1 (reviews positivos). Las AUC fue de 0.967 y 0.960 para XGBoost y RF, respectivamente.\n"
   ]
  }
 ],
 "metadata": {
  "kernelspec": {
   "display_name": "Python 3",
   "language": "python",
   "name": "python3"
  },
  "language_info": {
   "codemirror_mode": {
    "name": "ipython",
    "version": 3
   },
   "file_extension": ".py",
   "mimetype": "text/x-python",
   "name": "python",
   "nbconvert_exporter": "python",
   "pygments_lexer": "ipython3",
   "version": "3.7.4"
  }
 },
 "nbformat": 4,
 "nbformat_minor": 5
}
