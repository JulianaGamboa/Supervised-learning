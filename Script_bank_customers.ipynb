{
 "cells": [
  {
   "cell_type": "code",
   "execution_count": 4,
   "metadata": {
    "id": "mF8vojIo9Asp"
   },
   "outputs": [],
   "source": [
    "# Manipulación de Datos\n",
    "# =====================\n",
    "import numpy as np\n",
    "import pandas as pd\n",
    "\n",
    "# Gráficos\n",
    "# ========\n",
    "import seaborn as sns\n",
    "import matplotlib.pyplot as plt\n",
    "plt.style.use('seaborn-dark-palette')\n",
    "sns.set_context('notebook')\n",
    "\n",
    "# Preprocesado, modelado, metricas\n",
    "# ================================\n",
    "from sklearn.compose         import ColumnTransformer\n",
    "from sklearn.preprocessing   import OneHotEncoder\n",
    "from sklearn.model_selection import train_test_split\n",
    "from sklearn.model_selection import train_test_split\n",
    "from sklearn.model_selection import GridSearchCV\n",
    "from sklearn.ensemble        import RandomForestClassifier\n",
    "from sklearn.metrics         import plot_confusion_matrix\n",
    "from sklearn.metrics         import confusion_matrix\n",
    "from sklearn.metrics         import recall_score\n",
    "from sklearn.metrics         import accuracy_score\n",
    "from sklearn.metrics         import precision_score\n",
    "from sklearn.metrics         import make_scorer\n",
    "from sklearn.metrics         import classification_report\n",
    "\n",
    "# Configuración de warnings\n",
    "# =========================\n",
    "import warnings\n",
    "warnings.filterwarnings('ignore')\n"
   ]
  },
  {
   "cell_type": "code",
   "execution_count": 5,
   "metadata": {
    "colab": {
     "base_uri": "https://localhost:8080/",
     "height": 72,
     "resources": {
      "http://localhost:8080/nbextensions/google.colab/files.js": {
       "data": "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",
       "headers": [
        [
         "content-type",
         "application/javascript"
        ]
       ],
       "ok": true,
       "status": 200,
       "status_text": ""
      }
     }
    },
    "id": "ozQ9gdn_Fh-g",
    "outputId": "a16bd9df-2576-4e0a-b352-d950d277e920"
   },
   "outputs": [],
   "source": [
    "#from google.colab import files\n",
    "#uploaded = files.upload()\n"
   ]
  },
  {
   "cell_type": "code",
   "execution_count": 6,
   "metadata": {
    "colab": {
     "base_uri": "https://localhost:8080/"
    },
    "id": "prFaD2SO9As_",
    "outputId": "7cfaeaff-6741-4999-e454-29297822ef0c"
   },
   "outputs": [
    {
     "name": "stdout",
     "output_type": "stream",
     "text": [
      "<class 'pandas.core.frame.DataFrame'>\n",
      "RangeIndex: 35010 entries, 0 to 35009\n",
      "Data columns (total 21 columns):\n",
      " #   Column                 Non-Null Count  Dtype  \n",
      "---  ------                 --------------  -----  \n",
      " 0   Unnamed: 0             35010 non-null  int64  \n",
      " 1   Edad                   35010 non-null  int64  \n",
      " 2   Trabajo                35010 non-null  object \n",
      " 3   Estado civil           35010 non-null  object \n",
      " 4   Educacion              35010 non-null  object \n",
      " 5   Default                35010 non-null  object \n",
      " 6   Prestamo vivienda      35010 non-null  object \n",
      " 7   Prestamo personal      35010 non-null  object \n",
      " 8   Contacto               35010 non-null  object \n",
      " 9   Mes                    35010 non-null  object \n",
      " 10  Dia de la semana       35010 non-null  object \n",
      " 11  Cantidad de contactos  35010 non-null  int64  \n",
      " 12  Dias                   35010 non-null  int64  \n",
      " 13  Anterior               35010 non-null  int64  \n",
      " 14  Resultado anterior     35010 non-null  object \n",
      " 15  emp.var.rate           35010 non-null  float64\n",
      " 16  cons.price.idx         35010 non-null  float64\n",
      " 17  cons.conf.idx          35010 non-null  float64\n",
      " 18  euribor3m              35010 non-null  float64\n",
      " 19  nr.employed            35010 non-null  float64\n",
      " 20  y                      35010 non-null  object \n",
      "dtypes: float64(5), int64(5), object(11)\n",
      "memory usage: 5.6+ MB\n"
     ]
    }
   ],
   "source": [
    "df = pd.read_csv('mkt_bank.csv')\n",
    "df.info()"
   ]
  },
  {
   "cell_type": "code",
   "execution_count": 7,
   "metadata": {
    "id": "GmI5M53b9AtD"
   },
   "outputs": [],
   "source": [
    "def clean_data(df):\n",
    "    df['Educacion'] = df['Educacion'].replace([\"basica.9y\",\n",
    "                                               \"basica.6y\",\n",
    "                                               \"basica.4y\"],\n",
    "                                              \"primario\")\n",
    "    \n",
    "    df['Prestamo vivienda'] = df['Prestamo vivienda'].astype('category')\n",
    "    df['Prestamo personal'] = df['Prestamo personal'].astype('category')\n",
    "    df['Default'] = df['Default'].astype('category')\n",
    "    df['Resultado anterior'] = df['Resultado anterior'].astype('category')\n",
    "    df['Contacto'] = df['Contacto'].astype('category')\n",
    "    df['Trabajo'] = df['Trabajo'].astype('category')\n",
    "    df['Educacion'] = df['Educacion'].astype('category')\n",
    "    df['Estado civil'] = df['Estado civil'].astype('category')\n",
    "\n",
    "    days ={'sun' : 1,\n",
    "           'mon' : 2,\n",
    "           'tue' : 3,\n",
    "           'wed' : 4,\n",
    "           'thu' : 5,\n",
    "           'fri' : 6,\n",
    "           'sat' : 7}\n",
    "\n",
    "    df['Dia de la semana'] = df['Dia de la semana'].apply(lambda x: days[x])\n",
    "\n",
    "    month = {'jan' : 1,\n",
    "             'feb' : 2,\n",
    "             'mar' : 3,\n",
    "             'apr' : 4,\n",
    "             'may' : 5,\n",
    "             'jun' : 6,\n",
    "             'jul' : 7,\n",
    "             'aug' : 8,\n",
    "             'sep' : 9,\n",
    "             'oct' : 10,\n",
    "             'nov' : 11,\n",
    "             'dec' : 12 }\n",
    "    df['Mes'] = df.Mes.apply(lambda x: month[x])\n",
    "\n",
    "    df.drop('Unnamed: 0', axis=\"columns\", inplace=True)\n",
    "    df.drop('nr.employed', axis = 'columns', inplace=True)\n",
    "\n",
    "    # Reduccion de categorías de la variable Anterior\n",
    "    series = pd.value_counts(df['Anterior'])\n",
    "    mask = (series < 650)\n",
    "    df['Anterior'] = np.where(df['Anterior'].isin(\n",
    "                        series[mask].index),'2mas',\n",
    "                         df['Anterior'])\n",
    "    df['Anterior'] = df['Anterior'].astype('category')\n",
    "\n",
    "    # Eliminación de registros duplicados\n",
    "    df.drop_duplicates(inplace = True)\n",
    "\n",
    "    return df\n",
    "df = clean_data(df)"
   ]
  },
  {
   "cell_type": "code",
   "execution_count": 8,
   "metadata": {
    "id": "jC1diLRF9AtG",
    "outputId": "0514d439-df37-4bf3-e292-d723e28d78f0"
   },
   "outputs": [
    {
     "name": "stdout",
     "output_type": "stream",
     "text": [
      "<class 'pandas.core.frame.DataFrame'>\n",
      "Int64Index: 33558 entries, 0 to 35009\n",
      "Data columns (total 19 columns):\n",
      " #   Column                 Non-Null Count  Dtype   \n",
      "---  ------                 --------------  -----   \n",
      " 0   Edad                   33558 non-null  int64   \n",
      " 1   Trabajo                33558 non-null  category\n",
      " 2   Estado civil           33558 non-null  category\n",
      " 3   Educacion              33558 non-null  category\n",
      " 4   Default                33558 non-null  category\n",
      " 5   Prestamo vivienda      33558 non-null  category\n",
      " 6   Prestamo personal      33558 non-null  category\n",
      " 7   Contacto               33558 non-null  category\n",
      " 8   Mes                    33558 non-null  int64   \n",
      " 9   Dia de la semana       33558 non-null  int64   \n",
      " 10  Cantidad de contactos  33558 non-null  int64   \n",
      " 11  Dias                   33558 non-null  int64   \n",
      " 12  Anterior               33558 non-null  category\n",
      " 13  Resultado anterior     33558 non-null  category\n",
      " 14  emp.var.rate           33558 non-null  float64 \n",
      " 15  cons.price.idx         33558 non-null  float64 \n",
      " 16  cons.conf.idx          33558 non-null  float64 \n",
      " 17  euribor3m              33558 non-null  float64 \n",
      " 18  y                      33558 non-null  object  \n",
      "dtypes: category(9), float64(4), int64(5), object(1)\n",
      "memory usage: 3.1+ MB\n"
     ]
    }
   ],
   "source": [
    "#sns.pairplot(df, hue=\"y\")\n",
    "df.info()"
   ]
  },
  {
   "cell_type": "code",
   "execution_count": 9,
   "metadata": {
    "id": "dA9Md24j9AtI"
   },
   "outputs": [],
   "source": [
    "y = df['y']\n",
    "X = df.drop(\"y\",axis=\"columns\")\n",
    "def preprocess_data(df):\n",
    "    numeric_cols = df.select_dtypes(include=['float64', 'int64']).columns.to_list()\n",
    "    cat_cols = df.select_dtypes(include=['object', 'category']).columns.to_list()\n",
    "    cl = ColumnTransformer(\n",
    "                   [\n",
    "                    ('onehot', OneHotEncoder(), cat_cols)],\n",
    "                remainder = 'passthrough')\n",
    "\n",
    "    df = cl.fit_transform(df)\n",
    "    return df\n",
    "\n",
    "X = preprocess_data(X)"
   ]
  },
  {
   "cell_type": "code",
   "execution_count": 10,
   "metadata": {
    "id": "1Swr-Old9AtJ"
   },
   "outputs": [],
   "source": [
    "X_train, X_test, y_train, y_test = train_test_split(X,\n",
    "                                                    y, \n",
    "                                                    test_size = 0.2, \n",
    "                                                    random_state = 42,\n",
    "                                                    stratify = y)"
   ]
  },
  {
   "cell_type": "code",
   "execution_count": 11,
   "metadata": {
    "id": "imhxx-dC9AtK"
   },
   "outputs": [],
   "source": [
    "def benefitmatrix_score(y,y_pred,**kargs):\n",
    "    tn, fp, fn, tp = confusion_matrix(y, y_pred).ravel()\n",
    "    return (tn * 200 + tp * 2900 - 440 * fp) / len(y)"
   ]
  },
  {
   "cell_type": "code",
   "execution_count": 12,
   "metadata": {
    "id": "bAPf6fXB9AtL"
   },
   "outputs": [],
   "source": [
    "def plot_search_results(grid,s):\n",
    "    \"\"\"\n",
    "    Params: \n",
    "        grid: A trained GridSearchCV object.\n",
    "    \"\"\"\n",
    "    ## Results from grid search\n",
    "    results = grid.cv_results_\n",
    "    means_test = results['mean_test_'+s]\n",
    "    stds_test = results['std_test_'+s]\n",
    "    means_train = results['mean_train_'+s]\n",
    "    stds_train = results['std_train_'+s]\n",
    "\n",
    "    ## Getting indexes of values per hyper-parameter\n",
    "    masks=[]\n",
    "    masks_names= list(grid.best_params_.keys())\n",
    "    for p_k, p_v in grid.best_params_.items():\n",
    "        masks.append(list(results['param_'+p_k].data==p_v))\n",
    "\n",
    "    params=grid.param_grid\n",
    "\n",
    "    ## Ploting results\n",
    "    fig, ax = plt.subplots(1,len(params),sharex='none', sharey='all',figsize=(20,5))\n",
    "    fig.suptitle(s+' Score per parameter')\n",
    "    fig.text(0.04, 0.5, 'MEAN SCORE', va='center', rotation='vertical')\n",
    "    pram_preformace_in_best = {}\n",
    "    for i, p in enumerate(masks_names):\n",
    "        m = np.stack(masks[:i] + masks[i+1:])\n",
    "        pram_preformace_in_best\n",
    "        best_parms_mask = m.all(axis=0)\n",
    "        best_index = np.where(best_parms_mask)[0]\n",
    "        x = np.array(params[p])\n",
    "        y_1 = np.array(means_test[best_index])\n",
    "        e_1 = np.array(stds_test[best_index])\n",
    "        y_2 = np.array(means_train[best_index])\n",
    "        e_2 = np.array(stds_train[best_index])\n",
    "        ax[i].errorbar(x, y_1, e_1, linestyle='--', marker='o', label='test')\n",
    "        ax[i].errorbar(x, y_2, e_2, linestyle='-', marker='^',label='train' )\n",
    "        ax[i].set_xlabel(p.upper())\n",
    "\n",
    "    plt.legend()\n",
    "    plt.show()"
   ]
  },
  {
   "cell_type": "code",
   "execution_count": 13,
   "metadata": {
    "colab": {
     "base_uri": "https://localhost:8080/",
     "height": 893
    },
    "id": "xOr_nASvQ8vr",
    "outputId": "e4b3479c-3809-40f4-c322-ab88b23d9b8b"
   },
   "outputs": [
    {
     "name": "stdout",
     "output_type": "stream",
     "text": [
      "Fitting 5 folds for each of 108 candidates, totalling 540 fits\n"
     ]
    },
    {
     "name": "stderr",
     "output_type": "stream",
     "text": [
      "[Parallel(n_jobs=-1)]: Using backend LokyBackend with 6 concurrent workers.\n",
      "[Parallel(n_jobs=-1)]: Done  13 tasks      | elapsed:   10.7s\n",
      "[Parallel(n_jobs=-1)]: Done  86 tasks      | elapsed:  1.1min\n",
      "[Parallel(n_jobs=-1)]: Done 209 tasks      | elapsed:  2.7min\n",
      "[Parallel(n_jobs=-1)]: Done 380 tasks      | elapsed:  5.5min\n",
      "[Parallel(n_jobs=-1)]: Done 540 out of 540 | elapsed:  8.7min finished\n"
     ]
    },
    {
     "name": "stdout",
     "output_type": "stream",
     "text": [
      "\n",
      "{'bootstrap': True, 'max_depth': 15, 'max_features': 'sqrt', 'min_samples_leaf': 10, 'n_estimators': 300}\n",
      "Precision Promedio (train):  334.1093645235789\n",
      "Precision promedio (test):  332.6698450536353\n",
      "              precision    recall  f1-score   support\n",
      "\n",
      "          no       0.95      0.88      0.92      5929\n",
      "          si       0.43      0.66      0.52       783\n",
      "\n",
      "    accuracy                           0.86      6712\n",
      "   macro avg       0.69      0.77      0.72      6712\n",
      "weighted avg       0.89      0.86      0.87      6712\n",
      "\n"
     ]
    },
    {
     "data": {
      "image/png": "[encoded data removed]",
      "text/plain": [
       "<Figure size 432x288 with 2 Axes>"
      ]
     },
     "metadata": {
      "needs_background": "light"
     },
     "output_type": "display_data"
    },
    {
     "data": {
      "image/png": "[encoded data removed]",
      "text/plain": [
       "<Figure size 432x288 with 2 Axes>"
      ]
     },
     "metadata": {
      "needs_background": "light"
     },
     "output_type": "display_data"
    }
   ],
   "source": [
    "def rf_optimized(X_train, X_test, y_train, y_test):\n",
    "    n_estimators = [100, 200, 300]\n",
    "    max_depth = [7, 12, 15]\n",
    "    min_samples_leaf = [5, 10, 15]\n",
    "    max_features = ['sqrt', 'auto']\n",
    "    bootstrap = [True, False]\n",
    "\n",
    "    hyperparametros = dict(\n",
    "        n_estimators=n_estimators, \n",
    "        min_samples_leaf=min_samples_leaf,\n",
    "        max_depth=max_depth,\n",
    "        max_features=max_features,\n",
    "        bootstrap = bootstrap\n",
    "    )\n",
    "\n",
    "    algoritmo = RandomForestClassifier(class_weight = 'balanced',\n",
    "                                       random_state =  42)\n",
    "    custom_scorer = {\"Matriz_de_beneficio\" : make_scorer(benefitmatrix_score,\n",
    "                                                         greater_is_better=True),\n",
    "                     'Accuracy': make_scorer(accuracy_score)\n",
    "                     }\n",
    "\n",
    "    clf = GridSearchCV(algoritmo,\n",
    "                       hyperparametros,\n",
    "                       cv                 = 5,\n",
    "                       verbose            = 4,\n",
    "                       scoring            = custom_scorer,\n",
    "                       n_jobs             = -1,\n",
    "                       refit              = \"Matriz_de_beneficio\",\n",
    "                       return_train_score = True)\n",
    "\n",
    "    # Entrenamiento\n",
    "    algoritmo = clf.fit(X_train, y_train)\n",
    "    print()\n",
    "    print(algoritmo.best_params_)\n",
    "\n",
    "    # Predicciones\n",
    "    Y_pred = algoritmo.predict(X_test)\n",
    "    plot_confusion_matrix(algoritmo, X_train, y_train,normalize='true')\n",
    "    plot_confusion_matrix(algoritmo,\n",
    "                          X_test,\n",
    "                          y_test,\n",
    "                          values_format  = 'd')\n",
    "\n",
    "    print(\"Precision Promedio (train): \", algoritmo.score(X_train, y_train))\n",
    "    print(\"Precision promedio (test): \", algoritmo.score(X_test, y_test))\n",
    "    print(classification_report(y_test, Y_pred))\n",
    "    return algoritmo\n",
    "\n",
    "algoritmo_rf = rf_optimized(X_train, X_test, y_train, y_test)"
   ]
  },
  {
   "cell_type": "code",
   "execution_count": null,
   "metadata": {
    "colab": {
     "base_uri": "https://localhost:8080/",
     "height": 679
    },
    "id": "ReKYePDX9AtO",
    "outputId": "5cec0a1f-b423-47ef-c82b-d06f8b19f5f4"
   },
   "outputs": [],
   "source": [
    "# si corren otra vez el notebook van a ver los gráficos que estan en el word.\n",
    "plot_search_results(algoritmo_rf,'Matriz_de_beneficio')\n",
    "plot_search_results(algoritmo_rf,'Accuracy')"
   ]
  },
  {
   "cell_type": "code",
   "execution_count": null,
   "metadata": {
    "colab": {
     "base_uri": "https://localhost:8080/",
     "height": 591
    },
    "id": "Tv7CC4XHaB3y",
    "outputId": "57214d72-9d34-4ad4-fc60-85382bb6c845"
   },
   "outputs": [],
   "source": [
    "# Modelo con los mejores hiperparámetros\n",
    "# Train/Test (80/20)\n",
    "\n",
    "def rf_optimized(X_train, X_test, y_train, y_test):\n",
    "    n_estimators     = [300]\n",
    "    max_depth        = [15]\n",
    "    min_samples_leaf = [10]\n",
    "    max_features     = ['sqrt']\n",
    "    bootstrap        = [True]\n",
    "\n",
    "    hyperparametros = dict(\n",
    "                            n_estimators     = n_estimators, \n",
    "                            min_samples_leaf = min_samples_leaf,\n",
    "                            max_depth        = max_depth,\n",
    "                            max_features     = max_features,\n",
    "                            bootstrap        = bootstrap\n",
    "                           )\n",
    "\n",
    "    algoritmo = RandomForestClassifier(class_weight ='balanced',\n",
    "                                       random_state = 42)\n",
    "    \n",
    "    custom_scorer = {\"Matriz_de_beneficio\" : make_scorer(benefitmatrix_score,\n",
    "                                                         greater_is_better=True),\n",
    "                     'Accuracy': make_scorer(accuracy_score)\n",
    "                     }\n",
    "\n",
    "    clf = GridSearchCV(algoritmo,\n",
    "                       hyperparametros,\n",
    "                       cv                 = 5,\n",
    "                       verbose            = 4,\n",
    "                       scoring            = custom_scorer,\n",
    "                       n_jobs             = -1,\n",
    "                       refit              = \"Matriz_de_beneficio\",\n",
    "                       return_train_score = True)\n",
    "    \n",
    "    # Entrenamiento\n",
    "    algoritmo = clf.fit(X_train, y_train)\n",
    "    print()\n",
    "    print(algoritmo.best_params_)\n",
    "\n",
    "    # Predicciones\n",
    "    Y_pred = algoritmo.predict(X_test)\n",
    "\n",
    "    plot_confusion_matrix(algoritmo,\n",
    "                          X_test,\n",
    "                          y_test,\n",
    "                          values_format  = 'd')\n",
    "    \n",
    "    print()\n",
    "    print(\"Beneficio promedio (train): {:.2f}\".format(algoritmo.score(X_train, y_train)))\n",
    "    print(\"Beneficio promedio (test): {:.2f}\".format(algoritmo.score(X_test, y_test)))\n",
    "    print()\n",
    "    print(classification_report(y_test, Y_pred))\n",
    "    return algoritmo\n",
    "\n",
    "algoritmo_rf = rf_optimized(X_train, X_test, y_train, y_test)"
   ]
  }
 ],
 "metadata": {
  "colab": {
   "collapsed_sections": [],
   "name": "tp_fiubaar.ipynb",
   "provenance": []
  },
  "kernelspec": {
   "display_name": "Python 3 (ipykernel)",
   "language": "python",
   "name": "python3"
  },
  "language_info": {
   "codemirror_mode": {
    "name": "ipython",
    "version": 3
   },
   "file_extension": ".py",
   "mimetype": "text/x-python",
   "name": "python",
   "nbconvert_exporter": "python",
   "pygments_lexer": "ipython3",
   "version": "3.7.11"
  }
 },
 "nbformat": 4,
 "nbformat_minor": 1
}
